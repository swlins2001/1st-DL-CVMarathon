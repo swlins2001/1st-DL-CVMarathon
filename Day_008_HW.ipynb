{
 "cells": [
  {
   "cell_type": "markdown",
   "metadata": {},
   "source": [
    "# [作業目標]\n",
    "- 對資料做更多處理 : 顯示特定欄位的統計值與直方圖"
   ]
  },
  {
   "cell_type": "markdown",
   "metadata": {},
   "source": [
    "# [作業重點]\n",
    "- 試著顯示特定欄位的基礎統計數值 (In[4], Out[4], Hint : describe())\n",
    "- 試著顯示特定欄位的直方圖 (In[5], Out[5], Hint : .hist())"
   ]
  },
  {
   "cell_type": "code",
   "execution_count": 1,
   "metadata": {},
   "outputs": [],
   "source": [
    "# Import 需要的套件\n",
    "import os\n",
    "import numpy as np\n",
    "import pandas as pd\n",
    "\n",
    "# 設定 data_path\n",
    "dir_data = './data/'"
   ]
  },
  {
   "cell_type": "code",
   "execution_count": 2,
   "metadata": {},
   "outputs": [],
   "source": [
    "f_app_train = os.path.join(dir_data, 'application_train.csv')\n",
    "app_train = pd.read_csv(f_app_train)"
   ]
  },
  {
   "cell_type": "code",
   "execution_count": 3,
   "metadata": {},
   "outputs": [],
   "source": [
    "import matplotlib.pyplot as plt\n",
    "%matplotlib inline"
   ]
  },
  {
   "cell_type": "markdown",
   "metadata": {},
   "source": [
    "## 練習時間"
   ]
  },
  {
   "cell_type": "markdown",
   "metadata": {},
   "source": [
    "觀察有興趣的欄位的資料分佈，並嘗試找出有趣的訊息\n",
    "#### Eg\n",
    "- 計算任意欄位的平均數及標準差\n",
    "- 畫出任意欄位的[直方圖](https://zh.wikipedia.org/zh-tw/%E7%9B%B4%E6%96%B9%E5%9B%BE)\n",
    "\n",
    "### Hints:\n",
    "- [Descriptive Statistics For pandas Dataframe](https://chrisalbon.com/python/data_wrangling/pandas_dataframe_descriptive_stats/)\n",
    "- [pandas 中的繪圖函數](https://amaozhao.gitbooks.io/pandas-notebook/content/pandas%E4%B8%AD%E7%9A%84%E7%BB%98%E5%9B%BE%E5%87%BD%E6%95%B0.html)\n"
   ]
  },
  {
   "cell_type": "code",
   "execution_count": 15,
   "metadata": {},
   "outputs": [
    {
     "name": "stdout",
     "output_type": "stream",
     "text": [
      "          SK_ID_CURR         TARGET   CNT_CHILDREN  AMT_INCOME_TOTAL  \\\n",
      "count  307511.000000  307511.000000  307511.000000      3.075110e+05   \n",
      "mean   278180.518577       0.080729       0.417052      1.687979e+05   \n",
      "std    102790.175348       0.272419       0.722121      2.371231e+05   \n",
      "min    100002.000000       0.000000       0.000000      2.565000e+04   \n",
      "25%    189145.500000       0.000000       0.000000      1.125000e+05   \n",
      "50%    278202.000000       0.000000       0.000000      1.471500e+05   \n",
      "75%    367142.500000       0.000000       1.000000      2.025000e+05   \n",
      "max    456255.000000       1.000000      19.000000      1.170000e+08   \n",
      "\n",
      "         AMT_CREDIT    AMT_ANNUITY  AMT_GOODS_PRICE  \\\n",
      "count  3.075110e+05  307499.000000     3.072330e+05   \n",
      "mean   5.990260e+05   27108.573909     5.383962e+05   \n",
      "std    4.024908e+05   14493.737315     3.694465e+05   \n",
      "min    4.500000e+04    1615.500000     4.050000e+04   \n",
      "25%    2.700000e+05   16524.000000     2.385000e+05   \n",
      "50%    5.135310e+05   24903.000000     4.500000e+05   \n",
      "75%    8.086500e+05   34596.000000     6.795000e+05   \n",
      "max    4.050000e+06  258025.500000     4.050000e+06   \n",
      "\n",
      "       REGION_POPULATION_RELATIVE     DAYS_BIRTH  DAYS_EMPLOYED  ...  \\\n",
      "count               307511.000000  307511.000000  307511.000000  ...   \n",
      "mean                     0.020868  -16036.995067   63815.045904  ...   \n",
      "std                      0.013831    4363.988632  141275.766519  ...   \n",
      "min                      0.000290  -25229.000000  -17912.000000  ...   \n",
      "25%                      0.010006  -19682.000000   -2760.000000  ...   \n",
      "50%                      0.018850  -15750.000000   -1213.000000  ...   \n",
      "75%                      0.028663  -12413.000000    -289.000000  ...   \n",
      "max                      0.072508   -7489.000000  365243.000000  ...   \n",
      "\n",
      "       FLAG_DOCUMENT_18  FLAG_DOCUMENT_19  FLAG_DOCUMENT_20  FLAG_DOCUMENT_21  \\\n",
      "count     307511.000000     307511.000000     307511.000000     307511.000000   \n",
      "mean           0.008130          0.000595          0.000507          0.000335   \n",
      "std            0.089798          0.024387          0.022518          0.018299   \n",
      "min            0.000000          0.000000          0.000000          0.000000   \n",
      "25%            0.000000          0.000000          0.000000          0.000000   \n",
      "50%            0.000000          0.000000          0.000000          0.000000   \n",
      "75%            0.000000          0.000000          0.000000          0.000000   \n",
      "max            1.000000          1.000000          1.000000          1.000000   \n",
      "\n",
      "       AMT_REQ_CREDIT_BUREAU_HOUR  AMT_REQ_CREDIT_BUREAU_DAY  \\\n",
      "count               265992.000000              265992.000000   \n",
      "mean                     0.006402                   0.007000   \n",
      "std                      0.083849                   0.110757   \n",
      "min                      0.000000                   0.000000   \n",
      "25%                      0.000000                   0.000000   \n",
      "50%                      0.000000                   0.000000   \n",
      "75%                      0.000000                   0.000000   \n",
      "max                      4.000000                   9.000000   \n",
      "\n",
      "       AMT_REQ_CREDIT_BUREAU_WEEK  AMT_REQ_CREDIT_BUREAU_MON  \\\n",
      "count               265992.000000              265992.000000   \n",
      "mean                     0.034362                   0.267395   \n",
      "std                      0.204685                   0.916002   \n",
      "min                      0.000000                   0.000000   \n",
      "25%                      0.000000                   0.000000   \n",
      "50%                      0.000000                   0.000000   \n",
      "75%                      0.000000                   0.000000   \n",
      "max                      8.000000                  27.000000   \n",
      "\n",
      "       AMT_REQ_CREDIT_BUREAU_QRT  AMT_REQ_CREDIT_BUREAU_YEAR  \n",
      "count              265992.000000               265992.000000  \n",
      "mean                    0.265474                    1.899974  \n",
      "std                     0.794056                    1.869295  \n",
      "min                     0.000000                    0.000000  \n",
      "25%                     0.000000                    0.000000  \n",
      "50%                     0.000000                    1.000000  \n",
      "75%                     0.000000                    3.000000  \n",
      "max                   261.000000                   25.000000  \n",
      "\n",
      "[8 rows x 106 columns]\n",
      "538396.2074288895\n",
      "369446.4605400129\n"
     ]
    }
   ],
   "source": [
    "print(app_train.describe())\n",
    "\n",
    "#平均值\n",
    "print(app_train['AMT_GOODS_PRICE'].mean())\n",
    "\n",
    "#標準差\n",
    "print(app_train['AMT_GOODS_PRICE'].std())"
   ]
  },
  {
   "cell_type": "code",
   "execution_count": 13,
   "metadata": {},
   "outputs": [
    {
     "data": {
      "image/png": "[encoded data removed]",
      "text/plain": [
       "<Figure size 1440x720 with 1 Axes>"
      ]
     },
     "metadata": {
      "needs_background": "light"
     },
     "output_type": "display_data"
    }
   ],
   "source": [
    "plt.figure(figsize=(20,10))\n",
    "plt.hist( app_train[\"AMT_GOODS_PRICE\"])\n",
    "plt.xlabel(\"amt of goods price\", fontsize=10)\n",
    "plt.show()"
   ]
  },
  {
   "cell_type": "code",
   "execution_count": null,
   "metadata": {},
   "outputs": [],
   "source": []
  }
 ],
 "metadata": {
  "kernelspec": {
   "display_name": "Python 3",
   "language": "python",
   "name": "python3"
  },
  "language_info": {
   "codemirror_mode": {
    "name": "ipython",
    "version": 3
   },
   "file_extension": ".py",
   "mimetype": "text/x-python",
   "name": "python",
   "nbconvert_exporter": "python",
   "pygments_lexer": "ipython3",
   "version": "3.8.3"
  }
 },
 "nbformat": 4,
 "nbformat_minor": 2
}
