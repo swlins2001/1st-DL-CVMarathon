{
 "cells": [
  {
   "cell_type": "markdown",
   "metadata": {},
   "source": [
    "## [作業重點]\n",
    "確保你了解隨機森林模型中每個超參數的意義，並觀察調整超參數對結果的影響"
   ]
  },
  {
   "cell_type": "markdown",
   "metadata": {},
   "source": [
    "## 作業\n",
    "\n",
    "1. 試著調整 RandomForestClassifier(...) 中的參數，並觀察是否會改變結果？\n",
    "2. 改用其他資料集 (boston, wine)，並與回歸模型與決策樹的結果進行比較"
   ]
  },
  {
   "cell_type": "code",
   "execution_count": 20,
   "metadata": {},
   "outputs": [
    {
     "name": "stdout",
     "output_type": "stream",
     "text": [
      "n_estimators =  4 ; max_depth =  4 \tAccuracy:  0.9473684210526315\n",
      "n_estimators =  4 ; max_depth =  5 \tAccuracy:  0.9736842105263158\n",
      "n_estimators =  4 ; max_depth =  6 \tAccuracy:  0.9473684210526315\n",
      "n_estimators =  4 ; max_depth =  7 \tAccuracy:  0.9736842105263158\n",
      "n_estimators =  4 ; max_depth =  8 \tAccuracy:  0.9736842105263158\n",
      "n_estimators =  4 ; max_depth =  9 \tAccuracy:  0.9736842105263158\n",
      "n_estimators =  8 ; max_depth =  4 \tAccuracy:  0.9736842105263158\n",
      "n_estimators =  8 ; max_depth =  5 \tAccuracy:  0.9736842105263158\n",
      "n_estimators =  8 ; max_depth =  6 \tAccuracy:  0.9736842105263158\n",
      "n_estimators =  8 ; max_depth =  7 \tAccuracy:  0.9736842105263158\n",
      "n_estimators =  8 ; max_depth =  8 \tAccuracy:  0.9736842105263158\n",
      "n_estimators =  8 ; max_depth =  9 \tAccuracy:  0.9736842105263158\n",
      "n_estimators =  12 ; max_depth =  4 \tAccuracy:  0.9473684210526315\n",
      "n_estimators =  12 ; max_depth =  5 \tAccuracy:  0.9736842105263158\n",
      "n_estimators =  12 ; max_depth =  6 \tAccuracy:  0.9736842105263158\n",
      "n_estimators =  12 ; max_depth =  7 \tAccuracy:  0.9736842105263158\n",
      "n_estimators =  12 ; max_depth =  8 \tAccuracy:  0.9736842105263158\n",
      "n_estimators =  12 ; max_depth =  9 \tAccuracy:  0.9736842105263158\n",
      "n_estimators =  16 ; max_depth =  4 \tAccuracy:  0.9736842105263158\n",
      "n_estimators =  16 ; max_depth =  5 \tAccuracy:  0.9736842105263158\n",
      "n_estimators =  16 ; max_depth =  6 \tAccuracy:  0.9736842105263158\n",
      "n_estimators =  16 ; max_depth =  7 \tAccuracy:  0.9736842105263158\n",
      "n_estimators =  16 ; max_depth =  8 \tAccuracy:  0.9736842105263158\n",
      "n_estimators =  16 ; max_depth =  9 \tAccuracy:  0.9473684210526315\n",
      "n_estimators =  20 ; max_depth =  4 \tAccuracy:  0.9736842105263158\n",
      "n_estimators =  20 ; max_depth =  5 \tAccuracy:  0.9473684210526315\n",
      "n_estimators =  20 ; max_depth =  6 \tAccuracy:  0.9736842105263158\n",
      "n_estimators =  20 ; max_depth =  7 \tAccuracy:  0.9736842105263158\n",
      "n_estimators =  20 ; max_depth =  8 \tAccuracy:  0.9736842105263158\n",
      "n_estimators =  20 ; max_depth =  9 \tAccuracy:  0.9473684210526315\n"
     ]
    }
   ],
   "source": [
    "from sklearn import datasets, metrics\n",
    "from sklearn.ensemble import RandomForestClassifier\n",
    "from sklearn.model_selection import train_test_split\n",
    "# 讀取鳶尾花資料集\n",
    "iris = datasets.load_iris()\n",
    "\n",
    "# 切分訓練集/測試集\n",
    "x_train, x_test, y_train, y_test = train_test_split(iris.data, iris.target, test_size=0.25, random_state=4)\n",
    "\n",
    "for i in range(4, 24, 4):\n",
    "    for n in range(4,10,1):\n",
    "      clf = RandomForestClassifier(n_estimators=i, max_depth=n)\n",
    "      clf.fit(x_train, y_train)\n",
    "      y_pred = clf.predict(x_test)\n",
    "      acc = metrics.accuracy_score(y_test, y_pred)\n",
    "      print(\"n_estimators = \", i,\"; max_depth = \", n, \"\\tAccuracy: \", acc)\n"
   ]
  },
  {
   "cell_type": "markdown",
   "metadata": {},
   "source": [
    "## BOSTON"
   ]
  },
  {
   "cell_type": "code",
   "execution_count": 25,
   "metadata": {},
   "outputs": [
    {
     "name": "stdout",
     "output_type": "stream",
     "text": [
      "n_estimators =  4 ; max_depth =  4 \tMSE:  21.275399110885274\n",
      "n_estimators =  4 ; max_depth =  5 \tMSE:  21.43142324984289\n",
      "n_estimators =  4 ; max_depth =  6 \tMSE:  21.136180840302632\n",
      "n_estimators =  4 ; max_depth =  7 \tMSE:  14.63877186862149\n",
      "n_estimators =  4 ; max_depth =  8 \tMSE:  15.251044137117399\n",
      "n_estimators =  4 ; max_depth =  9 \tMSE:  17.34255699333949\n",
      "n_estimators =  8 ; max_depth =  4 \tMSE:  17.732481527255082\n",
      "n_estimators =  8 ; max_depth =  5 \tMSE:  13.96506757684712\n",
      "n_estimators =  8 ; max_depth =  6 \tMSE:  20.36164465365744\n",
      "n_estimators =  8 ; max_depth =  7 \tMSE:  19.072296171681913\n",
      "n_estimators =  8 ; max_depth =  8 \tMSE:  17.24977287842066\n",
      "n_estimators =  8 ; max_depth =  9 \tMSE:  20.153485284107802\n",
      "n_estimators =  12 ; max_depth =  4 \tMSE:  17.67858929028042\n",
      "n_estimators =  12 ; max_depth =  5 \tMSE:  18.071219228704265\n",
      "n_estimators =  12 ; max_depth =  6 \tMSE:  19.329638446517954\n",
      "n_estimators =  12 ; max_depth =  7 \tMSE:  17.7068129497405\n",
      "n_estimators =  12 ; max_depth =  8 \tMSE:  15.061983669302105\n",
      "n_estimators =  12 ; max_depth =  9 \tMSE:  17.436377825333214\n",
      "n_estimators =  16 ; max_depth =  4 \tMSE:  15.875388293007557\n",
      "n_estimators =  16 ; max_depth =  5 \tMSE:  16.85651250882771\n",
      "n_estimators =  16 ; max_depth =  6 \tMSE:  15.182170437324295\n",
      "n_estimators =  16 ; max_depth =  7 \tMSE:  15.604943741080948\n",
      "n_estimators =  16 ; max_depth =  8 \tMSE:  15.442131534668789\n",
      "n_estimators =  16 ; max_depth =  9 \tMSE:  13.554325245288403\n",
      "n_estimators =  20 ; max_depth =  4 \tMSE:  20.087676243316213\n",
      "n_estimators =  20 ; max_depth =  5 \tMSE:  19.133739126373943\n",
      "n_estimators =  20 ; max_depth =  6 \tMSE:  12.71363109039193\n",
      "n_estimators =  20 ; max_depth =  7 \tMSE:  17.92497136753211\n",
      "n_estimators =  20 ; max_depth =  8 \tMSE:  16.537972985233363\n",
      "n_estimators =  20 ; max_depth =  9 \tMSE:  16.01467153049159\n"
     ]
    }
   ],
   "source": [
    "from sklearn import datasets, metrics\n",
    "from sklearn.ensemble import RandomForestRegressor\n",
    "from sklearn.model_selection import train_test_split\n",
    "# 讀取Boston資料集\n",
    "iris = datasets.load_boston()\n",
    "\n",
    "# 切分訓練集/測試集\n",
    "x_train, x_test, y_train, y_test = train_test_split(iris.data, iris.target, test_size=0.25, random_state=4)\n",
    "\n",
    "for i in range(4, 24, 4):\n",
    "    for n in range(4,10,1):\n",
    "      clf = RandomForestRegressor(n_estimators=i, max_depth=n)\n",
    "      clf.fit(x_train, y_train)\n",
    "      y_pred = clf.predict(x_test)\n",
    "      mse = metrics.mean_squared_error(y_test, y_pred)\n",
    "      print(\"n_estimators = \", i,\"; max_depth = \", n, \"\\tMSE: \", mse)"
   ]
  },
  {
   "cell_type": "markdown",
   "metadata": {},
   "source": [
    "## WINE"
   ]
  },
  {
   "cell_type": "code",
   "execution_count": 23,
   "metadata": {},
   "outputs": [
    {
     "name": "stdout",
     "output_type": "stream",
     "text": [
      "n_estimators =  4 ; max_depth =  4 \tAccuracy:  0.9333333333333333\n",
      "n_estimators =  4 ; max_depth =  5 \tAccuracy:  0.9111111111111111\n",
      "n_estimators =  4 ; max_depth =  6 \tAccuracy:  0.9333333333333333\n",
      "n_estimators =  4 ; max_depth =  7 \tAccuracy:  0.9555555555555556\n",
      "n_estimators =  4 ; max_depth =  8 \tAccuracy:  0.9333333333333333\n",
      "n_estimators =  4 ; max_depth =  9 \tAccuracy:  1.0\n",
      "n_estimators =  8 ; max_depth =  4 \tAccuracy:  1.0\n",
      "n_estimators =  8 ; max_depth =  5 \tAccuracy:  0.9777777777777777\n",
      "n_estimators =  8 ; max_depth =  6 \tAccuracy:  0.9777777777777777\n",
      "n_estimators =  8 ; max_depth =  7 \tAccuracy:  1.0\n",
      "n_estimators =  8 ; max_depth =  8 \tAccuracy:  0.9777777777777777\n",
      "n_estimators =  8 ; max_depth =  9 \tAccuracy:  0.9777777777777777\n",
      "n_estimators =  12 ; max_depth =  4 \tAccuracy:  0.9777777777777777\n",
      "n_estimators =  12 ; max_depth =  5 \tAccuracy:  0.9777777777777777\n",
      "n_estimators =  12 ; max_depth =  6 \tAccuracy:  1.0\n",
      "n_estimators =  12 ; max_depth =  7 \tAccuracy:  1.0\n",
      "n_estimators =  12 ; max_depth =  8 \tAccuracy:  0.9111111111111111\n",
      "n_estimators =  12 ; max_depth =  9 \tAccuracy:  0.9555555555555556\n",
      "n_estimators =  16 ; max_depth =  4 \tAccuracy:  0.9777777777777777\n",
      "n_estimators =  16 ; max_depth =  5 \tAccuracy:  0.9777777777777777\n",
      "n_estimators =  16 ; max_depth =  6 \tAccuracy:  1.0\n",
      "n_estimators =  16 ; max_depth =  7 \tAccuracy:  0.9777777777777777\n",
      "n_estimators =  16 ; max_depth =  8 \tAccuracy:  0.9777777777777777\n",
      "n_estimators =  16 ; max_depth =  9 \tAccuracy:  0.9333333333333333\n",
      "n_estimators =  20 ; max_depth =  4 \tAccuracy:  1.0\n",
      "n_estimators =  20 ; max_depth =  5 \tAccuracy:  0.9555555555555556\n",
      "n_estimators =  20 ; max_depth =  6 \tAccuracy:  0.9777777777777777\n",
      "n_estimators =  20 ; max_depth =  7 \tAccuracy:  0.9777777777777777\n",
      "n_estimators =  20 ; max_depth =  8 \tAccuracy:  1.0\n",
      "n_estimators =  20 ; max_depth =  9 \tAccuracy:  0.9777777777777777\n"
     ]
    }
   ],
   "source": [
    "from sklearn import datasets, metrics\n",
    "from sklearn.ensemble import RandomForestClassifier\n",
    "from sklearn.model_selection import train_test_split\n",
    "# 讀取WINE資料集\n",
    "iris = datasets.load_wine()\n",
    "\n",
    "# 切分訓練集/測試集\n",
    "x_train, x_test, y_train, y_test = train_test_split(iris.data, iris.target, test_size=0.25, random_state=4)\n",
    "\n",
    "for i in range(4, 24, 4):\n",
    "    for n in range(4,10,1):\n",
    "      clf = RandomForestClassifier(n_estimators=i, max_depth=n)\n",
    "      clf.fit(x_train, y_train)\n",
    "      y_pred = clf.predict(x_test)\n",
    "      acc = metrics.accuracy_score(y_test, y_pred)\n",
    "      print(\"n_estimators = \", i,\"; max_depth = \", n, \"\\tAccuracy: \", acc)"
   ]
  }
 ],
 "metadata": {
  "kernelspec": {
   "display_name": "Python 3",
   "language": "python",
   "name": "python3"
  },
  "language_info": {
   "codemirror_mode": {
    "name": "ipython",
    "version": 3
   },
   "file_extension": ".py",
   "mimetype": "text/x-python",
   "name": "python",
   "nbconvert_exporter": "python",
   "pygments_lexer": "ipython3",
   "version": "3.8.3"
  }
 },
 "nbformat": 4,
 "nbformat_minor": 2
}
