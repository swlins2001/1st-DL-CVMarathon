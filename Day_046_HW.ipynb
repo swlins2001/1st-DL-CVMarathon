{
 "cells": [
  {
   "cell_type": "markdown",
   "metadata": {},
   "source": [
    "### 作業\n",
    "目前已經學過許多的模型，相信大家對整體流程應該比較掌握了，這次作業請改用**手寫辨識資料集**，步驟流程都是一樣的，請試著自己撰寫程式碼來完成所有步驟"
   ]
  },
  {
   "cell_type": "code",
   "execution_count": 6,
   "metadata": {},
   "outputs": [],
   "source": [
    "from sklearn import datasets, metrics\n",
    "from sklearn.ensemble import GradientBoostingClassifier,RandomForestClassifier\n",
    "from sklearn.model_selection import train_test_split\n",
    "digits = datasets.load_digits()"
   ]
  },
  {
   "cell_type": "markdown",
   "metadata": {},
   "source": [
    "### GradientBoostingClassifier"
   ]
  },
  {
   "cell_type": "code",
   "execution_count": 9,
   "metadata": {},
   "outputs": [
    {
     "name": "stdout",
     "output_type": "stream",
     "text": [
      "n_estimators =  4 ; max_depth =  4 \tAccuracy:  0.9\n",
      "n_estimators =  4 ; max_depth =  5 \tAccuracy:  0.8911111111111111\n",
      "n_estimators =  4 ; max_depth =  6 \tAccuracy:  0.9022222222222223\n",
      "n_estimators =  4 ; max_depth =  7 \tAccuracy:  0.8911111111111111\n",
      "n_estimators =  4 ; max_depth =  8 \tAccuracy:  0.8711111111111111\n",
      "n_estimators =  4 ; max_depth =  9 \tAccuracy:  0.8711111111111111\n",
      "n_estimators =  8 ; max_depth =  4 \tAccuracy:  0.92\n",
      "n_estimators =  8 ; max_depth =  5 \tAccuracy:  0.9311111111111111\n",
      "n_estimators =  8 ; max_depth =  6 \tAccuracy:  0.9177777777777778\n",
      "n_estimators =  8 ; max_depth =  7 \tAccuracy:  0.8977777777777778\n",
      "n_estimators =  8 ; max_depth =  8 \tAccuracy:  0.8911111111111111\n",
      "n_estimators =  8 ; max_depth =  9 \tAccuracy:  0.8822222222222222\n",
      "n_estimators =  12 ; max_depth =  4 \tAccuracy:  0.9333333333333333\n",
      "n_estimators =  12 ; max_depth =  5 \tAccuracy:  0.94\n",
      "n_estimators =  12 ; max_depth =  6 \tAccuracy:  0.9288888888888889\n",
      "n_estimators =  12 ; max_depth =  7 \tAccuracy:  0.9\n",
      "n_estimators =  12 ; max_depth =  8 \tAccuracy:  0.8933333333333333\n",
      "n_estimators =  12 ; max_depth =  9 \tAccuracy:  0.88\n",
      "n_estimators =  16 ; max_depth =  4 \tAccuracy:  0.9488888888888889\n",
      "n_estimators =  16 ; max_depth =  5 \tAccuracy:  0.9444444444444444\n",
      "n_estimators =  16 ; max_depth =  6 \tAccuracy:  0.9311111111111111\n",
      "n_estimators =  16 ; max_depth =  7 \tAccuracy:  0.9066666666666666\n",
      "n_estimators =  16 ; max_depth =  8 \tAccuracy:  0.9\n",
      "n_estimators =  16 ; max_depth =  9 \tAccuracy:  0.8822222222222222\n",
      "n_estimators =  20 ; max_depth =  4 \tAccuracy:  0.9488888888888889\n",
      "n_estimators =  20 ; max_depth =  5 \tAccuracy:  0.9488888888888889\n",
      "n_estimators =  20 ; max_depth =  6 \tAccuracy:  0.9333333333333333\n",
      "n_estimators =  20 ; max_depth =  7 \tAccuracy:  0.9133333333333333\n",
      "n_estimators =  20 ; max_depth =  8 \tAccuracy:  0.9022222222222223\n",
      "n_estimators =  20 ; max_depth =  9 \tAccuracy:  0.8822222222222222\n"
     ]
    }
   ],
   "source": [
    "# 切分訓練集/測試集\n",
    "x_train, x_test, y_train, y_test = train_test_split(digits.data, digits.target, test_size=0.25, random_state=4)\n",
    "\n",
    "for i in range(4, 24, 4):\n",
    "    for n in range(4,10,1):\n",
    "      clf = GradientBoostingClassifier(n_estimators=i, max_depth=n)\n",
    "      clf.fit(x_train, y_train)\n",
    "      y_pred = clf.predict(x_test)\n",
    "      acc = metrics.accuracy_score(y_test, y_pred)\n",
    "      print(\"n_estimators = \", i,\"; max_depth = \", n, \"\\tAccuracy: \", acc)"
   ]
  },
  {
   "cell_type": "markdown",
   "metadata": {},
   "source": [
    "### RandomForestClassifier"
   ]
  },
  {
   "cell_type": "code",
   "execution_count": 10,
   "metadata": {},
   "outputs": [
    {
     "name": "stdout",
     "output_type": "stream",
     "text": [
      "n_estimators =  4 ; max_depth =  4 \tAccuracy:  0.7866666666666666\n",
      "n_estimators =  4 ; max_depth =  5 \tAccuracy:  0.86\n",
      "n_estimators =  4 ; max_depth =  6 \tAccuracy:  0.8866666666666667\n",
      "n_estimators =  4 ; max_depth =  7 \tAccuracy:  0.8888888888888888\n",
      "n_estimators =  4 ; max_depth =  8 \tAccuracy:  0.8844444444444445\n",
      "n_estimators =  4 ; max_depth =  9 \tAccuracy:  0.8866666666666667\n",
      "n_estimators =  8 ; max_depth =  4 \tAccuracy:  0.8177777777777778\n",
      "n_estimators =  8 ; max_depth =  5 \tAccuracy:  0.8844444444444445\n",
      "n_estimators =  8 ; max_depth =  6 \tAccuracy:  0.9066666666666666\n",
      "n_estimators =  8 ; max_depth =  7 \tAccuracy:  0.94\n",
      "n_estimators =  8 ; max_depth =  8 \tAccuracy:  0.9377777777777778\n",
      "n_estimators =  8 ; max_depth =  9 \tAccuracy:  0.9311111111111111\n",
      "n_estimators =  12 ; max_depth =  4 \tAccuracy:  0.8955555555555555\n",
      "n_estimators =  12 ; max_depth =  5 \tAccuracy:  0.9355555555555556\n",
      "n_estimators =  12 ; max_depth =  6 \tAccuracy:  0.9466666666666667\n",
      "n_estimators =  12 ; max_depth =  7 \tAccuracy:  0.9466666666666667\n",
      "n_estimators =  12 ; max_depth =  8 \tAccuracy:  0.9533333333333334\n",
      "n_estimators =  12 ; max_depth =  9 \tAccuracy:  0.9688888888888889\n",
      "n_estimators =  16 ; max_depth =  4 \tAccuracy:  0.8911111111111111\n",
      "n_estimators =  16 ; max_depth =  5 \tAccuracy:  0.9244444444444444\n",
      "n_estimators =  16 ; max_depth =  6 \tAccuracy:  0.94\n",
      "n_estimators =  16 ; max_depth =  7 \tAccuracy:  0.9511111111111111\n",
      "n_estimators =  16 ; max_depth =  8 \tAccuracy:  0.9511111111111111\n",
      "n_estimators =  16 ; max_depth =  9 \tAccuracy:  0.9733333333333334\n",
      "n_estimators =  20 ; max_depth =  4 \tAccuracy:  0.8866666666666667\n",
      "n_estimators =  20 ; max_depth =  5 \tAccuracy:  0.92\n",
      "n_estimators =  20 ; max_depth =  6 \tAccuracy:  0.9422222222222222\n",
      "n_estimators =  20 ; max_depth =  7 \tAccuracy:  0.9488888888888889\n",
      "n_estimators =  20 ; max_depth =  8 \tAccuracy:  0.9644444444444444\n",
      "n_estimators =  20 ; max_depth =  9 \tAccuracy:  0.9644444444444444\n"
     ]
    }
   ],
   "source": [
    "# 切分訓練集/測試集\n",
    "x_train, x_test, y_train, y_test = train_test_split(digits.data, digits.target, test_size=0.25, random_state=4)\n",
    "\n",
    "# 建立模型\n",
    "for i in range(4, 24, 4):\n",
    "    for n in range(4,10,1):\n",
    "      clf = RandomForestClassifier(n_estimators=i, max_depth=n)\n",
    "      clf.fit(x_train, y_train)\n",
    "      y_pred = clf.predict(x_test)\n",
    "      acc = metrics.accuracy_score(y_test, y_pred)\n",
    "      print(\"n_estimators = \", i,\"; max_depth = \", n, \"\\tAccuracy: \", acc)"
   ]
  },
  {
   "cell_type": "code",
   "execution_count": 14,
   "metadata": {},
   "outputs": [
    {
     "name": "stdout",
     "output_type": "stream",
     "text": [
      "Accuracy =  \tAccuracy:  0.9644444444444444\n"
     ]
    },
    {
     "name": "stderr",
     "output_type": "stream",
     "text": [
      "C:\\Users\\jzlin\\Anaconda3\\lib\\site-packages\\sklearn\\linear_model\\_logistic.py:762: ConvergenceWarning: lbfgs failed to converge (status=1):\n",
      "STOP: TOTAL NO. of ITERATIONS REACHED LIMIT.\n",
      "\n",
      "Increase the number of iterations (max_iter) or scale the data as shown in:\n",
      "    https://scikit-learn.org/stable/modules/preprocessing.html\n",
      "Please also refer to the documentation for alternative solver options:\n",
      "    https://scikit-learn.org/stable/modules/linear_model.html#logistic-regression\n",
      "  n_iter_i = _check_optimize_result(\n"
     ]
    }
   ],
   "source": [
    "from sklearn.linear_model import LogisticRegression\n",
    "from sklearn.preprocessing import MinMaxScaler\n",
    "\n",
    "# 切分訓練集/測試集\n",
    "x_train, x_test, y_train, y_test = train_test_split(digits.data, digits.target, test_size=0.25, random_state=4)\n",
    "\n",
    "# 建立模型\n",
    "clf = LogisticRegression()\n",
    "scaler = MinMaxScaler().fit(x_train)\n",
    "clf.fit(x_train, y_train)\n",
    "y_pred = clf.predict(scaler.transform(x_test))\n",
    "acc = metrics.accuracy_score(y_test, y_pred)\n",
    "print(\"Accuracy = \", \"\\tAccuracy: \", acc)"
   ]
  },
  {
   "cell_type": "code",
   "execution_count": null,
   "metadata": {},
   "outputs": [],
   "source": []
  }
 ],
 "metadata": {
  "kernelspec": {
   "display_name": "Python 3",
   "language": "python",
   "name": "python3"
  },
  "language_info": {
   "codemirror_mode": {
    "name": "ipython",
    "version": 3
   },
   "file_extension": ".py",
   "mimetype": "text/x-python",
   "name": "python",
   "nbconvert_exporter": "python",
   "pygments_lexer": "ipython3",
   "version": "3.8.3"
  }
 },
 "nbformat": 4,
 "nbformat_minor": 2
}
